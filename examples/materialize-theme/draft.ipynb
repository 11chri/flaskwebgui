{
 "cells": [
  {
   "cell_type": "code",
   "execution_count": null,
   "metadata": {},
   "outputs": [],
   "source": [
    "def chrome_pids(self):\n",
    "        return [p.info['pid'] for p in psutil.process_iter(attrs=['pid', 'name']) if 'chrome' in p.info['name']]\n",
    "    "
   ]
  },
  {
   "cell_type": "code",
   "execution_count": 1,
   "metadata": {},
   "outputs": [],
   "source": [
    "import psutil"
   ]
  },
  {
   "cell_type": "code",
   "execution_count": 34,
   "metadata": {},
   "outputs": [
    {
     "name": "stdout",
     "output_type": "stream",
     "text": [
      "13907 chrome zombie\n"
     ]
    }
   ],
   "source": [
    "for p in psutil.process_iter():\n",
    "    if 'chrome' in p.name():\n",
    "        print(p.pid, p.name(), p.status())\n",
    "    \n",
    "        \n",
    "\n",
    "   \n",
    "\n",
    "#[p.info['pid'] for p in psutil.process_iter(attrs=['pid', 'name']) if 'chrome' in p.info['name']]\n",
    "    "
   ]
  },
  {
   "cell_type": "code",
   "execution_count": 35,
   "metadata": {},
   "outputs": [],
   "source": [
    "def browser_runs():\n",
    "        \"\"\"\n",
    "            Check if chrome is opened\n",
    "        \"\"\"\n",
    "        try:\n",
    "            \n",
    "            for p in psutil.process_iter():\n",
    "                if 'chrome' in p.name() and self.BROWSER_PROCESS.pid == p.pid:\n",
    "                    if p.status() is not 'zombie':\n",
    "                        return True\n",
    "                    else:\n",
    "                        return False\n",
    "                    #print(p.pid, p.name(), p.status())\n",
    "        except: #Fails untill server and browser starts\n",
    "            return True\n"
   ]
  },
  {
   "cell_type": "code",
   "execution_count": 36,
   "metadata": {},
   "outputs": [],
   "source": [
    "browser_runs()"
   ]
  },
  {
   "cell_type": "code",
   "execution_count": null,
   "metadata": {},
   "outputs": [],
   "source": []
  },
  {
   "cell_type": "code",
   "execution_count": null,
   "metadata": {},
   "outputs": [],
   "source": []
  },
  {
   "cell_type": "code",
   "execution_count": 3,
   "metadata": {},
   "outputs": [],
   "source": [
    "for _process in psutil.process_iter():\n",
    "    try:\n",
    "        new_proc = _process.as_dict(attrs=['cpu_times', 'name', 'pid', 'status'])\n",
    "    except psutil.NoSuchProcess:\n",
    "        continue\n",
    "    except psutil.ZombieProcess:\n",
    "        continue"
   ]
  },
  {
   "cell_type": "code",
   "execution_count": null,
   "metadata": {},
   "outputs": [],
   "source": []
  },
  {
   "cell_type": "code",
   "execution_count": 39,
   "metadata": {},
   "outputs": [
    {
     "name": "stdout",
     "output_type": "stream",
     "text": [
      "Main Thread:Started\n",
      "Child Thread:Started\n",
      "Doing some low priority task taking long time\n",
      "Doing some low priority task taking long time\n",
      "ChildThread:Asked to stop\n",
      "Child Thread:Exiting\n",
      "Main Thread; Exiting\n"
     ]
    }
   ],
   "source": [
    "from threading import Thread\n",
    "\n",
    "from threading import Event\n",
    "\n",
    "import time\n",
    "\n",
    " \n",
    "\n",
    "class ChildThread(Thread):\n",
    "\n",
    "    myStopSignal = 0\n",
    "\n",
    "   \n",
    "\n",
    "    def __init__(self,aStopSignal):\n",
    "\n",
    "        Thread.__init__(self)\n",
    "\n",
    "        self.myStopSignal = aStopSignal   \n",
    "\n",
    "       \n",
    "\n",
    "    def run(self):\n",
    "\n",
    "        print(\"Child Thread:Started\")\n",
    "\n",
    "        for i in range(1,10):\n",
    "\n",
    "            if(self.myStopSignal.wait(0)):\n",
    "\n",
    "                print (\"ChildThread:Asked to stop\")\n",
    "\n",
    "                break    \n",
    "\n",
    " \n",
    "\n",
    "            print(\"Doing some low priority task taking long time\")\n",
    "\n",
    "            time.sleep(2) #Just simulating time taken by task with sleep\n",
    "\n",
    " \n",
    "\n",
    "        print(\"Child Thread:Exiting\")\n",
    "\n",
    " \n",
    "\n",
    "print(\"Main Thread:Started\")\n",
    "\n",
    "aStopSignal     = Event()           \n",
    "\n",
    "aChildThread    = ChildThread(aStopSignal)\n",
    "\n",
    "aChildThread.start()\n",
    "\n",
    "aChildThread.join(4) # I can wait for 4 seconds only\n",
    "\n",
    " \n",
    "\n",
    "if aChildThread.is_alive() is True:\n",
    "\n",
    "    aStopSignal.set()\n",
    "\n",
    "    aChildThread.join()\n",
    "\n",
    " \n",
    "\n",
    "print(\"Main Thread; Exiting\")"
   ]
  },
  {
   "cell_type": "code",
   "execution_count": 5,
   "metadata": {},
   "outputs": [
    {
     "name": "stdout",
     "output_type": "stream",
     "text": [
      "TestThread starts\n",
      "loop 1\n",
      "loop 2\n",
      "loop 3\n",
      "loop 4\n",
      "loop 5\n",
      "loop 6\n",
      "loop 7\n",
      "loop 8\n",
      "loop 9\n",
      "loop 10\n",
      "loop 11\n",
      "TestThread ends\n"
     ]
    }
   ],
   "source": [
    "import threading\n",
    "\n",
    "class TestThread(threading.Thread):\n",
    "\n",
    "    def __init__(self, name='TestThread'):\n",
    "        \"\"\" constructor, setting initial variables \"\"\"\n",
    "        self._stopevent = threading.Event(  )\n",
    "        self._sleepperiod = 1.0\n",
    "\n",
    "        threading.Thread.__init__(self, name=name)\n",
    "\n",
    "    def run(self):\n",
    "        \"\"\" main control loop \"\"\"\n",
    "        print(\"%s starts\" % (self.getName(  ),))\n",
    "\n",
    "        count = 0\n",
    "        while not self._stopevent.isSet(  ):\n",
    "            count += 1\n",
    "            print(\"loop %d\" % (count,))\n",
    "            self._stopevent.wait(self._sleepperiod)\n",
    "\n",
    "        print(\"%s ends\" % (self.getName(  ),))\n",
    "\n",
    "    def join(self, timeout=None):\n",
    "        \"\"\" Stop the thread. \"\"\"\n",
    "        self._stopevent.set(  )\n",
    "        threading.Thread.join(self, timeout)\n",
    "\n",
    "if __name__ == \"__main__\":\n",
    "    testthread = TestThread(  )\n",
    "    testthread.start(  )\n",
    "\n",
    "    import time\n",
    "    time.sleep(10.0)\n",
    "\n",
    "    testthread.join(  )"
   ]
  },
  {
   "cell_type": "code",
   "execution_count": 27,
   "metadata": {},
   "outputs": [],
   "source": [
    "def find_chrome_linux():\n",
    "    import whichcraft as wch\n",
    "    chrome_names = ['chromium-browser',\n",
    "                    'chromium',\n",
    "                    'google-chrome',\n",
    "                    'google-chrome-stable']\n",
    "\n",
    "    for name in chrome_names:\n",
    "        chrome = wch.which(name)\n",
    "        if chrome is not None:\n",
    "            return chrome\n",
    "    return None\n"
   ]
  },
  {
   "cell_type": "code",
   "execution_count": 28,
   "metadata": {},
   "outputs": [],
   "source": [
    "import os, psutil\n",
    "import subprocess as sps\n",
    "\n",
    "localhost = \"http://localhost:5000\"\n",
    "browser_path = find_chrome_linux()\n",
    "\n",
    "def open_browser():\n",
    "    BROWSER_PROCESS = sps.Popen([browser_path, \"--start-maximized\", '--app={}'.format(localhost)],\n",
    "                        stdout=sps.PIPE, stderr=sps.PIPE, stdin=sps.PIPE)\n",
    "\n",
    "open_browser()"
   ]
  },
  {
   "cell_type": "code",
   "execution_count": null,
   "metadata": {},
   "outputs": [],
   "source": []
  },
  {
   "cell_type": "code",
   "execution_count": null,
   "metadata": {},
   "outputs": [],
   "source": []
  },
  {
   "cell_type": "code",
   "execution_count": null,
   "metadata": {},
   "outputs": [],
   "source": []
  },
  {
   "cell_type": "code",
   "execution_count": null,
   "metadata": {},
   "outputs": [],
   "source": []
  },
  {
   "cell_type": "code",
   "execution_count": null,
   "metadata": {},
   "outputs": [],
   "source": []
  },
  {
   "cell_type": "code",
   "execution_count": null,
   "metadata": {},
   "outputs": [],
   "source": []
  },
  {
   "cell_type": "code",
   "execution_count": null,
   "metadata": {},
   "outputs": [],
   "source": []
  },
  {
   "cell_type": "code",
   "execution_count": null,
   "metadata": {},
   "outputs": [],
   "source": []
  },
  {
   "cell_type": "code",
   "execution_count": null,
   "metadata": {},
   "outputs": [],
   "source": []
  },
  {
   "cell_type": "code",
   "execution_count": null,
   "metadata": {},
   "outputs": [],
   "source": []
  },
  {
   "cell_type": "code",
   "execution_count": null,
   "metadata": {},
   "outputs": [],
   "source": []
  },
  {
   "cell_type": "code",
   "execution_count": null,
   "metadata": {},
   "outputs": [],
   "source": []
  },
  {
   "cell_type": "code",
   "execution_count": null,
   "metadata": {},
   "outputs": [],
   "source": []
  },
  {
   "cell_type": "code",
   "execution_count": null,
   "metadata": {},
   "outputs": [],
   "source": []
  },
  {
   "cell_type": "code",
   "execution_count": null,
   "metadata": {},
   "outputs": [],
   "source": []
  },
  {
   "cell_type": "code",
   "execution_count": null,
   "metadata": {},
   "outputs": [],
   "source": []
  }
 ],
 "metadata": {
  "kernelspec": {
   "display_name": "Python 3",
   "language": "python",
   "name": "python3"
  },
  "language_info": {
   "codemirror_mode": {
    "name": "ipython",
    "version": 3
   },
   "file_extension": ".py",
   "mimetype": "text/x-python",
   "name": "python",
   "nbconvert_exporter": "python",
   "pygments_lexer": "ipython3",
   "version": "3.6.9"
  }
 },
 "nbformat": 4,
 "nbformat_minor": 2
}
